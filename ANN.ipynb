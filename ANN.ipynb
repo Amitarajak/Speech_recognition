{
 "cells": [
  {
   "cell_type": "code",
   "execution_count": 35,
   "id": "a6e93c7e",
   "metadata": {
    "scrolled": true
   },
   "outputs": [],
   "source": [
    "import tensorflow as tf\n",
    "from tensorflow import keras\n",
    "import matplotlib.pyplot as plt\n",
    "import numpy as np\n",
    "import pandas as pd\n",
    "#import warnings\n",
    "#warnings.filterwarnings(\"ignore\", category=DeprecationWarning)\n"
   ]
  },
  {
   "cell_type": "code",
   "execution_count": 36,
   "id": "384efeb8",
   "metadata": {},
   "outputs": [],
   "source": [
    "df=pd.read_csv('all_IS10_IEMOCAP_4.csv')"
   ]
  },
  {
   "cell_type": "code",
   "execution_count": 37,
   "id": "c8ae14df",
   "metadata": {},
   "outputs": [],
   "source": [
    "X=df.drop('label',axis='columns')\n"
   ]
  },
  {
   "cell_type": "code",
   "execution_count": 38,
   "id": "69de77f6",
   "metadata": {},
   "outputs": [],
   "source": [
    "y=df.label\n"
   ]
  },
  {
   "cell_type": "code",
   "execution_count": 39,
   "id": "993e6eb7",
   "metadata": {},
   "outputs": [],
   "source": [
    "X_new=np.array(X)\n"
   ]
  },
  {
   "cell_type": "code",
   "execution_count": 40,
   "id": "9beac681",
   "metadata": {},
   "outputs": [],
   "source": [
    "y_new=np.array(y)"
   ]
  },
  {
   "cell_type": "code",
   "execution_count": 41,
   "id": "5e8ed957",
   "metadata": {},
   "outputs": [],
   "source": [
    "import random\n",
    "#print(\"Original NumPy Array:\")\n",
    "#print(X_new)\n",
    "\n",
    "# Create a new array for noisy data\n",
    "X_new_noisy = np.copy(X_new)\n",
    "\n",
    "# Add random noise to each element\n",
    "for i in range(X_new.shape[0]):\n",
    "    for j in range(X_new.shape[1]):\n",
    "        X_new_noisy[i, j] += random.uniform(0.1, 0.12)\n",
    "\n",
    "# Display the NumPy array with added random noise\n",
    "#print(\"\\nNumPy Array with Added Noise:\")\n",
    "#print(X_new_noisy)"
   ]
  },
  {
   "cell_type": "code",
   "execution_count": 42,
   "id": "e51073a4",
   "metadata": {},
   "outputs": [
    {
     "data": {
      "text/plain": [
       "(5531, 1582)"
      ]
     },
     "execution_count": 42,
     "metadata": {},
     "output_type": "execute_result"
    }
   ],
   "source": [
    "X_new_noisy.shape"
   ]
  },
  {
   "cell_type": "code",
   "execution_count": 43,
   "id": "e0804e40",
   "metadata": {},
   "outputs": [
    {
     "data": {
      "text/plain": [
       "(5531,)"
      ]
     },
     "execution_count": 43,
     "metadata": {},
     "output_type": "execute_result"
    }
   ],
   "source": [
    "y_new.shape"
   ]
  },
  {
   "cell_type": "code",
   "execution_count": 44,
   "id": "f8fde5ea",
   "metadata": {},
   "outputs": [],
   "source": [
    "from sklearn.preprocessing import StandardScaler\n",
    "scaler=StandardScaler()\n",
    "X_scale=scaler.fit_transform(X_new_noisy)"
   ]
  },
  {
   "cell_type": "code",
   "execution_count": 45,
   "id": "27ea0fe9",
   "metadata": {},
   "outputs": [],
   "source": [
    "from sklearn.model_selection import train_test_split\n",
    "X_train,X_test,y_train,y_test=train_test_split(X_scale,y_new,test_size=0.25,random_state=4)"
   ]
  },
  {
   "cell_type": "code",
   "execution_count": 30,
   "id": "74a908c6",
   "metadata": {},
   "outputs": [
    {
     "data": {
      "text/plain": [
       "4148"
      ]
     },
     "execution_count": 30,
     "metadata": {},
     "output_type": "execute_result"
    }
   ],
   "source": [
    "len(X_train)"
   ]
  },
  {
   "cell_type": "code",
   "execution_count": 31,
   "id": "e67d200e",
   "metadata": {},
   "outputs": [
    {
     "data": {
      "text/plain": [
       "4148"
      ]
     },
     "execution_count": 31,
     "metadata": {},
     "output_type": "execute_result"
    }
   ],
   "source": [
    "len(y_train)"
   ]
  },
  {
   "cell_type": "code",
   "execution_count": 32,
   "id": "447c47ce",
   "metadata": {},
   "outputs": [
    {
     "data": {
      "text/plain": [
       "(4148, 1582)"
      ]
     },
     "execution_count": 32,
     "metadata": {},
     "output_type": "execute_result"
    }
   ],
   "source": [
    "X_train.shape"
   ]
  },
  {
   "cell_type": "code",
   "execution_count": 33,
   "id": "57e82f10",
   "metadata": {},
   "outputs": [
    {
     "data": {
      "text/plain": [
       "(4148,)"
      ]
     },
     "execution_count": 33,
     "metadata": {},
     "output_type": "execute_result"
    }
   ],
   "source": [
    "y_train.shape"
   ]
  },
  {
   "cell_type": "code",
   "execution_count": 16,
   "id": "503de6e8",
   "metadata": {},
   "outputs": [
    {
     "data": {
      "text/plain": [
       "array([2, 2, 0, 2, 0], dtype=int64)"
      ]
     },
     "execution_count": 16,
     "metadata": {},
     "output_type": "execute_result"
    }
   ],
   "source": [
    "y_train[:5]"
   ]
  },
  {
   "cell_type": "markdown",
   "id": "f8aef205",
   "metadata": {},
   "source": [
    "# Implementing the sequential neural network"
   ]
  },
  {
   "cell_type": "code",
   "execution_count": 48,
   "id": "c5fde987",
   "metadata": {},
   "outputs": [],
   "source": [
    "from keras.models import Sequential\n",
    "from keras.layers import Dense\n"
   ]
  },
  {
   "cell_type": "code",
   "execution_count": 49,
   "id": "9593585a",
   "metadata": {},
   "outputs": [],
   "source": [
    "num_classes = np.max(y_train) + 1  \n",
    "\n",
    "# Step 3: Creating  model\n",
    "models = Sequential([\n",
    "    Dense(64, activation='relu', input_shape=(X_train.shape[1],)),\n",
    "    Dense(32, activation='relu'),\n",
    "    Dense(num_classes, activation='softmax')  # Using softmax for multi-class classification\n",
    "])\n",
    "\n",
    "# Step 4: Compiling the model with sparse categorical cross-entropy loss\n",
    "models.compile(optimizer='adam', loss='sparse_categorical_crossentropy', metrics=['accuracy'])\n"
   ]
  },
  {
   "cell_type": "code",
   "execution_count": 50,
   "id": "5f1e6669",
   "metadata": {},
   "outputs": [
    {
     "name": "stdout",
     "output_type": "stream",
     "text": [
      "Epoch 1/10\n",
      "130/130 [==============================] - 2s 5ms/step - loss: 1.0195 - accuracy: 0.5632\n",
      "Epoch 2/10\n",
      "130/130 [==============================] - 1s 4ms/step - loss: 0.7026 - accuracy: 0.7155\n",
      "Epoch 3/10\n",
      "130/130 [==============================] - 0s 3ms/step - loss: 0.5343 - accuracy: 0.7980\n",
      "Epoch 4/10\n",
      "130/130 [==============================] - 0s 3ms/step - loss: 0.3845 - accuracy: 0.8611\n",
      "Epoch 5/10\n",
      "130/130 [==============================] - 0s 3ms/step - loss: 0.2726 - accuracy: 0.9132\n",
      "Epoch 6/10\n",
      "130/130 [==============================] - 0s 3ms/step - loss: 0.1882 - accuracy: 0.9455\n",
      "Epoch 7/10\n",
      "130/130 [==============================] - 0s 3ms/step - loss: 0.1270 - accuracy: 0.9672\n",
      "Epoch 8/10\n",
      "130/130 [==============================] - 0s 3ms/step - loss: 0.0778 - accuracy: 0.9860\n",
      "Epoch 9/10\n",
      "130/130 [==============================] - 0s 3ms/step - loss: 0.0463 - accuracy: 0.9913\n",
      "Epoch 10/10\n",
      "130/130 [==============================] - 0s 3ms/step - loss: 0.0304 - accuracy: 0.9959\n"
     ]
    },
    {
     "data": {
      "text/plain": [
       "<keras.src.callbacks.History at 0x1ab932049d0>"
      ]
     },
     "execution_count": 50,
     "metadata": {},
     "output_type": "execute_result"
    }
   ],
   "source": [
    "models.fit(X_train, y_train, epochs=10, batch_size=32, verbose=1)\n"
   ]
  },
  {
   "cell_type": "code",
   "execution_count": 59,
   "id": "e2a22486",
   "metadata": {},
   "outputs": [
    {
     "name": "stdout",
     "output_type": "stream",
     "text": [
      "44/44 [==============================] - 0s 2ms/step - loss: 1.4444 - accuracy: 0.6327\n"
     ]
    },
    {
     "data": {
      "text/plain": [
       "[1.4444125890731812, 0.6326825618743896]"
      ]
     },
     "execution_count": 59,
     "metadata": {},
     "output_type": "execute_result"
    }
   ],
   "source": [
    "accuracy=models.evaluate(X_test,y_test)\n",
    "accuracy"
   ]
  },
  {
   "cell_type": "code",
   "execution_count": 60,
   "id": "3b8ac6b6",
   "metadata": {},
   "outputs": [
    {
     "name": "stdout",
     "output_type": "stream",
     "text": [
      "44/44 [==============================] - 0s 2ms/step\n"
     ]
    }
   ],
   "source": [
    "y_pred_prob=models.predict(np.array(X_test))"
   ]
  },
  {
   "cell_type": "code",
   "execution_count": 61,
   "id": "ecbb77bb",
   "metadata": {},
   "outputs": [
    {
     "data": {
      "text/plain": [
       "(1383, 4)"
      ]
     },
     "execution_count": 61,
     "metadata": {},
     "output_type": "execute_result"
    }
   ],
   "source": [
    "y_pred_prob.shape"
   ]
  },
  {
   "cell_type": "code",
   "execution_count": 30,
   "id": "a4f7dc8e",
   "metadata": {},
   "outputs": [],
   "source": [
    "y_pred=np.argmax(y_pred_prob,axis=1)"
   ]
  },
  {
   "cell_type": "code",
   "execution_count": 25,
   "id": "f20f0790",
   "metadata": {},
   "outputs": [],
   "source": [
    "y_test_binary=np.array(y_test)"
   ]
  },
  {
   "cell_type": "code",
   "execution_count": null,
   "id": "0095b393",
   "metadata": {},
   "outputs": [],
   "source": [
    "y_test_binary.shape"
   ]
  },
  {
   "cell_type": "markdown",
   "id": "db165447",
   "metadata": {},
   "source": [
    "# Confusion Matrix"
   ]
  },
  {
   "cell_type": "code",
   "execution_count": 35,
   "id": "ea8b3095",
   "metadata": {},
   "outputs": [],
   "source": [
    "from sklearn.metrics import confusion_matrix,classification_report\n",
    "import seaborn as sns"
   ]
  },
  {
   "cell_type": "code",
   "execution_count": 36,
   "id": "cd536dc8",
   "metadata": {},
   "outputs": [
    {
     "data": {
      "image/png": "[encoded data removed]",
      "text/plain": [
       "<Figure size 800x600 with 1 Axes>"
      ]
     },
     "metadata": {},
     "output_type": "display_data"
    }
   ],
   "source": [
    "conf_matrix = confusion_matrix(y_test, y_pred)\n",
    "\n",
    "# Plotting confusion matrix\n",
    "plt.figure(figsize=(8, 6))\n",
    "sns.heatmap(conf_matrix, annot=True, fmt='d', cmap='Blues', cbar=False)\n",
    "plt.xlabel('Predicted Labels')\n",
    "plt.ylabel('Truth Labels')\n",
    "plt.title('Confusion Matrix')\n",
    "plt.show()"
   ]
  },
  {
   "cell_type": "code",
   "execution_count": 40,
   "id": "5e782930",
   "metadata": {},
   "outputs": [
    {
     "name": "stdout",
     "output_type": "stream",
     "text": [
      "Classification Report: \n",
      "               precision    recall  f1-score   support\n",
      "\n",
      "           0       0.76      0.73      0.74       273\n",
      "           1       0.64      0.57      0.60       412\n",
      "           2       0.56      0.64      0.60       401\n",
      "           3       0.66      0.67      0.67       297\n",
      "\n",
      "    accuracy                           0.64      1383\n",
      "   macro avg       0.66      0.65      0.65      1383\n",
      "weighted avg       0.65      0.64      0.64      1383\n",
      "\n"
     ]
    }
   ],
   "source": [
    "y_pred=np.round(y_pred)\n",
    "print(\"Classification Report: \\n\", classification_report(y_test, y_pred))\n",
    "    \n",
    "#return y_pred"
   ]
  },
  {
   "cell_type": "markdown",
   "id": "dcff8aff",
   "metadata": {},
   "source": [
    "# Sequential network with adjusting the weights"
   ]
  },
  {
   "cell_type": "code",
   "execution_count": 78,
   "id": "a66ca42e",
   "metadata": {},
   "outputs": [],
   "source": [
    "def SNN(X_train, y_train, X_test, y_test, loss, weights):\n",
    "    model = keras.Sequential([\n",
    "        keras.layers.Dense(64, input_dim=X_train.shape[1], activation='relu'),\n",
    "        keras.layers.Dense(32, activation='relu'),\n",
    "        keras.layers.Dense(num_classes, activation='softmax')\n",
    "    ])\n",
    "\n",
    "    model.compile(optimizer='adam', loss=loss, metrics=['accuracy'])\n",
    "    \n",
    "    if weights == -1:\n",
    "         model.fit(X_train, y_train, epochs=100)\n",
    "    else:\n",
    "        model.fit(X_train, y_train, epochs=100, class_weight = weights)\n",
    "    \n",
    "    print(history.evaluate(X_test, y_test))\n",
    "    "
   ]
  },
  {
   "cell_type": "code",
   "execution_count": 79,
   "id": "b8b06846",
   "metadata": {},
   "outputs": [
    {
     "name": "stdout",
     "output_type": "stream",
     "text": [
      "44/44 [==============================] - 0s 3ms/step\n",
      "Classification Report: \n",
      "               precision    recall  f1-score   support\n",
      "\n",
      "           0       0.73      0.66      0.69       273\n",
      "           1       0.60      0.62      0.61       412\n",
      "           2       0.59      0.60      0.59       401\n",
      "           3       0.66      0.68      0.67       297\n",
      "\n",
      "    accuracy                           0.64      1383\n",
      "   macro avg       0.65      0.64      0.64      1383\n",
      "weighted avg       0.64      0.64      0.64      1383\n",
      "\n"
     ]
    }
   ],
   "source": [
    "y_preds = model.predict(np.array(X_test))\n",
    "y_preds = np.argmax(y_preds, axis=1)\n",
    "y_preds = np.round(y_preds)\n",
    "\n",
    "print(\"Classification Report: \\n\", classification_report(y_test, y_preds))"
   ]
  },
  {
   "cell_type": "markdown",
   "id": "f6e871c8",
   "metadata": {},
   "source": [
    "# DROPOUT REGULARIZATION"
   ]
  },
  {
   "cell_type": "markdown",
   "id": "f57aebe2",
   "metadata": {},
   "source": [
    "#No dropout layer"
   ]
  },
  {
   "cell_type": "code",
   "execution_count": 51,
   "id": "b49d49c9",
   "metadata": {},
   "outputs": [
    {
     "name": "stdout",
     "output_type": "stream",
     "text": [
      "Epoch 1/10\n",
      "130/130 [==============================] - 1s 3ms/step - loss: 1.0449 - accuracy: 0.5497\n",
      "Epoch 2/10\n",
      "130/130 [==============================] - 0s 3ms/step - loss: 0.7060 - accuracy: 0.7172\n",
      "Epoch 3/10\n",
      "130/130 [==============================] - 0s 3ms/step - loss: 0.5467 - accuracy: 0.7946\n",
      "Epoch 4/10\n",
      "130/130 [==============================] - 0s 3ms/step - loss: 0.3994 - accuracy: 0.8667\n",
      "Epoch 5/10\n",
      "130/130 [==============================] - 1s 4ms/step - loss: 0.2719 - accuracy: 0.9144\n",
      "Epoch 6/10\n",
      "130/130 [==============================] - 1s 5ms/step - loss: 0.1872 - accuracy: 0.9491\n",
      "Epoch 7/10\n",
      "130/130 [==============================] - 1s 4ms/step - loss: 0.1319 - accuracy: 0.9655\n",
      "Epoch 8/10\n",
      "130/130 [==============================] - 1s 5ms/step - loss: 0.0743 - accuracy: 0.9877\n",
      "Epoch 9/10\n",
      "130/130 [==============================] - 1s 5ms/step - loss: 0.0438 - accuracy: 0.9935\n",
      "Epoch 10/10\n",
      "130/130 [==============================] - 0s 4ms/step - loss: 0.0220 - accuracy: 0.9988\n"
     ]
    },
    {
     "data": {
      "text/plain": [
       "<keras.src.callbacks.History at 0x1ab9334d290>"
      ]
     },
     "execution_count": 51,
     "metadata": {},
     "output_type": "execute_result"
    }
   ],
   "source": [
    "num_classes = np.max(y_train) + 1  \n",
    "\n",
    "\n",
    "model = Sequential([\n",
    "    Dense(64, activation='relu', input_shape=(X_train.shape[1],)),\n",
    "    Dense(32, activation='relu'),\n",
    "    Dense(num_classes, activation='softmax')  \n",
    "])\n",
    "\n",
    "\n",
    "model.compile(optimizer='adam', loss='sparse_categorical_crossentropy', metrics=['accuracy'])\n",
    "model.fit(X_train, y_train, epochs=10, batch_size=32, verbose=1)\n"
   ]
  },
  {
   "cell_type": "code",
   "execution_count": 52,
   "id": "f30971b8",
   "metadata": {},
   "outputs": [
    {
     "name": "stdout",
     "output_type": "stream",
     "text": [
      "44/44 [==============================] - 0s 2ms/step - loss: 1.4584 - accuracy: 0.6500\n"
     ]
    },
    {
     "data": {
      "text/plain": [
       "[1.4583524465560913, 0.6500361561775208]"
      ]
     },
     "execution_count": 52,
     "metadata": {},
     "output_type": "execute_result"
    }
   ],
   "source": [
    "model.evaluate(X_test,y_test)"
   ]
  },
  {
   "cell_type": "code",
   "execution_count": 53,
   "id": "1c460629",
   "metadata": {},
   "outputs": [
    {
     "name": "stdout",
     "output_type": "stream",
     "text": [
      "44/44 [==============================] - 0s 2ms/step\n",
      "[3.35627317e-01 6.64269328e-01 9.09058217e-05 1.24736935e-05\n",
      " 2.95903180e-02 1.36026919e-01 5.62276125e-01 2.72106707e-01\n",
      " 8.25740926e-07 1.01697827e-02]\n",
      "[0. 1. 0. 0. 0. 0. 1. 0. 0. 0.]\n"
     ]
    }
   ],
   "source": [
    "y_pred=model.predict(X_test).reshape(-1)\n",
    "print(y_pred[:10])\n",
    "\n",
    "y_pred=np.round(y_pred)\n",
    "print(y_pred[:10])"
   ]
  },
  {
   "cell_type": "code",
   "execution_count": 54,
   "id": "32654c07",
   "metadata": {},
   "outputs": [
    {
     "data": {
      "text/plain": [
       "array([1, 3, 3, 1, 3, 3, 3, 2, 3, 2], dtype=int64)"
      ]
     },
     "execution_count": 54,
     "metadata": {},
     "output_type": "execute_result"
    }
   ],
   "source": [
    "y_test[:10]"
   ]
  },
  {
   "cell_type": "markdown",
   "id": "c10675de",
   "metadata": {},
   "source": [
    "# MODEL WITH DROPOUT LAYER"
   ]
  },
  {
   "cell_type": "code",
   "execution_count": 55,
   "id": "c807c50e",
   "metadata": {},
   "outputs": [
    {
     "name": "stdout",
     "output_type": "stream",
     "text": [
      "Epoch 1/10\n",
      "519/519 [==============================] - 3s 3ms/step - loss: 1.6931 - accuracy: 0.3054\n",
      "Epoch 2/10\n",
      "519/519 [==============================] - 2s 3ms/step - loss: 1.3342 - accuracy: 0.3619\n",
      "Epoch 3/10\n",
      "519/519 [==============================] - 2s 4ms/step - loss: 1.2591 - accuracy: 0.4113\n",
      "Epoch 4/10\n",
      "519/519 [==============================] - 2s 4ms/step - loss: 1.2204 - accuracy: 0.4412\n",
      "Epoch 5/10\n",
      "519/519 [==============================] - 2s 3ms/step - loss: 1.1707 - accuracy: 0.4499\n",
      "Epoch 6/10\n",
      "519/519 [==============================] - 2s 3ms/step - loss: 1.1590 - accuracy: 0.4491\n",
      "Epoch 7/10\n",
      "519/519 [==============================] - 2s 3ms/step - loss: 1.1363 - accuracy: 0.4785\n",
      "Epoch 8/10\n",
      "519/519 [==============================] - 2s 3ms/step - loss: 1.0852 - accuracy: 0.4988\n",
      "Epoch 9/10\n",
      "519/519 [==============================] - 2s 3ms/step - loss: 1.1161 - accuracy: 0.4759\n",
      "Epoch 10/10\n",
      "519/519 [==============================] - 2s 3ms/step - loss: 1.0730 - accuracy: 0.5024\n"
     ]
    },
    {
     "data": {
      "text/plain": [
       "<keras.src.callbacks.History at 0x1ab93222d10>"
      ]
     },
     "execution_count": 55,
     "metadata": {},
     "output_type": "execute_result"
    }
   ],
   "source": [
    "num_classes = np.max(y_train) + 1 \n",
    "modeld=keras.Sequential([\n",
    "    keras.layers.Dense(60,input_shape=(X_train.shape[1],),activation='relu'),\n",
    "    keras.layers.Dropout(0.5),\n",
    "    keras.layers.Dense(30,activation='relu'),\n",
    "    keras.layers.Dropout(0.5),\n",
    "    keras.layers.Dense(15,activation='relu'),\n",
    "    keras.layers.Dropout(0.5),\n",
    "    keras.layers.Dense(num_classes,activation='sigmoid')\n",
    "    \n",
    "])\n",
    "\n",
    "modeld.compile(loss='sparse_categorical_crossentropy',optimizer='adam',metrics=['accuracy'])\n",
    "\n",
    "modeld.fit(X_train,y_train,epochs=10,batch_size=8)"
   ]
  },
  {
   "cell_type": "code",
   "execution_count": 31,
   "id": "bdde1e81",
   "metadata": {},
   "outputs": [
    {
     "name": "stdout",
     "output_type": "stream",
     "text": [
      "44/44 [==============================] - 0s 6ms/step - loss: 1.0531 - accuracy: 0.5083\n"
     ]
    }
   ],
   "source": [
    "accuracy=modeld.evaluate(X_test,y_test)"
   ]
  },
  {
   "cell_type": "code",
   "execution_count": 32,
   "id": "de923d27",
   "metadata": {},
   "outputs": [
    {
     "name": "stdout",
     "output_type": "stream",
     "text": [
      "44/44 [==============================] - 0s 2ms/step\n"
     ]
    }
   ],
   "source": [
    "y_pred=modeld.predict(np.array(X_test))"
   ]
  },
  {
   "cell_type": "code",
   "execution_count": 33,
   "id": "f6534539",
   "metadata": {},
   "outputs": [],
   "source": [
    "y_pred=np.argmax(y_pred,axis=1)"
   ]
  },
  {
   "cell_type": "markdown",
   "id": "3ad7585a",
   "metadata": {},
   "source": [
    "# Classification Report"
   ]
  },
  {
   "cell_type": "code",
   "execution_count": 62,
   "id": "2c2938b6",
   "metadata": {},
   "outputs": [
    {
     "name": "stdout",
     "output_type": "stream",
     "text": [
      "Classification Report: \n",
      "               precision    recall  f1-score   support\n",
      "\n",
      "           0       0.69      0.64      0.66       273\n",
      "           1       0.54      0.30      0.39       412\n",
      "           2       0.47      0.72      0.57       401\n",
      "           3       0.65      0.65      0.65       297\n",
      "\n",
      "    accuracy                           0.56      1383\n",
      "   macro avg       0.59      0.58      0.57      1383\n",
      "weighted avg       0.58      0.56      0.55      1383\n",
      "\n"
     ]
    }
   ],
   "source": [
    "y_pred = np.round(y_pred)\n",
    "\n",
    "print(\"Classification Report: \\n\", classification_report(y_test, y_pred))"
   ]
  },
  {
   "cell_type": "markdown",
   "id": "f3000ddd",
   "metadata": {},
   "source": [
    "# Implementing Convolution Neural Network"
   ]
  },
  {
   "cell_type": "code",
   "execution_count": 56,
   "id": "523a3946",
   "metadata": {},
   "outputs": [],
   "source": [
    "def CNN(X_train, y_train, X_test, y_test, loss, weights):\n",
    "    num_classes = y_train.shape[1]  \n",
    "    model = keras.Sequential([\n",
    "        keras.layers.Conv1D(32, kernel_size=(3, 3), activation='relu', input_dim=X_train.shape[1]),\n",
    "        keras.layers.MaxPooling1D(pool_size=(2, 2)),\n",
    "        keras.layers.Conv1D(64, kernel_size=(3, 3), activation='relu'),\n",
    "        keras.layers.MaxPooling1D(pool_size=(2, 2)),\n",
    "        keras.layers.Flatten(),\n",
    "        keras.layers.Dense(128, activation='relu'),\n",
    "        keras.layers.Dense(num_classes, activation='softmax')\n",
    "    ])\n",
    "\n",
    "    model.compile(optimizer='adam', loss=loss, metrics=['accuracy'])\n",
    "    \n",
    "    if weights == -1:\n",
    "        model.fit(X_train, y_train, epochs=100)\n",
    "    else:\n",
    "        model.fit(X_train, y_train, epochs=100, class_weight=weights)\n",
    "    \n",
    "    \n"
   ]
  },
  {
   "cell_type": "code",
   "execution_count": 57,
   "id": "6c396dc4",
   "metadata": {},
   "outputs": [
    {
     "name": "stdout",
     "output_type": "stream",
     "text": [
      "44/44 [==============================] - 0s 2ms/step - loss: 1.4584 - accuracy: 0.6500\n"
     ]
    }
   ],
   "source": [
    "accuracy=model.evaluate(X_test, y_test)"
   ]
  },
  {
   "cell_type": "code",
   "execution_count": 83,
   "id": "8c38a4c6",
   "metadata": {},
   "outputs": [
    {
     "name": "stdout",
     "output_type": "stream",
     "text": [
      "44/44 [==============================] - 0s 3ms/step\n"
     ]
    },
    {
     "data": {
      "text/plain": [
       "array([[2.5210865e-03, 9.9747616e-01, 1.5278690e-06, 1.1391435e-06],\n",
       "       [1.5437121e-05, 5.9009904e-01, 2.3570935e-01, 1.7417611e-01],\n",
       "       [4.2813266e-08, 1.6246558e-03, 4.3541739e-05, 9.9833184e-01],\n",
       "       [2.0960958e-06, 9.9966979e-01, 2.7824508e-04, 4.9965442e-05],\n",
       "       [2.3320687e-05, 1.4358283e-03, 1.4298588e-02, 9.8424238e-01]],\n",
       "      dtype=float32)"
      ]
     },
     "execution_count": 83,
     "metadata": {},
     "output_type": "execute_result"
    }
   ],
   "source": [
    "y_pred=model.predict(X_test)\n",
    "y_pred[:5]"
   ]
  },
  {
   "cell_type": "code",
   "execution_count": 67,
   "id": "eca6f5ca",
   "metadata": {},
   "outputs": [
    {
     "data": {
      "text/plain": [
       "[1, 1, 3, 1, 3]"
      ]
     },
     "execution_count": 67,
     "metadata": {},
     "output_type": "execute_result"
    }
   ],
   "source": [
    "y_classes=[np.argmax(element) for element in y_pred]\n",
    "y_classes[:5]"
   ]
  },
  {
   "cell_type": "code",
   "execution_count": 68,
   "id": "204981ba",
   "metadata": {},
   "outputs": [
    {
     "data": {
      "text/plain": [
       "array([1, 3, 3, 1, 3], dtype=int64)"
      ]
     },
     "execution_count": 68,
     "metadata": {},
     "output_type": "execute_result"
    }
   ],
   "source": [
    "y_test=y_test.reshape(-1,)\n",
    "y_test[:5]"
   ]
  },
  {
   "cell_type": "code",
   "execution_count": 69,
   "id": "a7495daa",
   "metadata": {},
   "outputs": [
    {
     "name": "stdout",
     "output_type": "stream",
     "text": [
      "classification report               precision    recall  f1-score   support\n",
      "\n",
      "           0       0.73      0.66      0.69       273\n",
      "           1       0.60      0.62      0.61       412\n",
      "           2       0.59      0.60      0.59       401\n",
      "           3       0.66      0.68      0.67       297\n",
      "\n",
      "    accuracy                           0.64      1383\n",
      "   macro avg       0.65      0.64      0.64      1383\n",
      "weighted avg       0.64      0.64      0.64      1383\n",
      "\n"
     ]
    }
   ],
   "source": [
    "print(\"classification report\",classification_report(y_test,y_classes))"
   ]
  },
  {
   "cell_type": "code",
   "execution_count": 70,
   "id": "d75a3e4d",
   "metadata": {},
   "outputs": [
    {
     "data": {
      "image/png": "[encoded data removed]",
      "text/plain": [
       "<Figure size 800x600 with 1 Axes>"
      ]
     },
     "metadata": {},
     "output_type": "display_data"
    }
   ],
   "source": [
    "conf_matrix = confusion_matrix(y_test, y_classes)\n",
    "\n",
    "\n",
    "plt.figure(figsize=(8, 6))\n",
    "sns.heatmap(conf_matrix, annot=True, fmt='d', cmap='Blues', cbar=False)\n",
    "plt.xlabel('Predicted Labels')\n",
    "plt.ylabel('Truth Labels')\n",
    "plt.title('Confusion Matrix')\n",
    "plt.show()"
   ]
  },
  {
   "cell_type": "markdown",
   "id": "69bafccb",
   "metadata": {},
   "source": [
    "# Implementation of Simple RNN"
   ]
  },
  {
   "cell_type": "code",
   "execution_count": 58,
   "id": "e7535453",
   "metadata": {},
   "outputs": [
    {
     "name": "stdout",
     "output_type": "stream",
     "text": [
      "Model: \"Simple_RNN\"\n",
      "_________________________________________________________________\n",
      " Layer (type)                Output Shape              Param #   \n",
      "=================================================================\n",
      " simple_rnn (SimpleRNN)      (None, 128)               16640     \n",
      "                                                                 \n",
      " dense_13 (Dense)            (None, 64)                8256      \n",
      "                                                                 \n",
      " dense_14 (Dense)            (None, 4)                 260       \n",
      "                                                                 \n",
      "=================================================================\n",
      "Total params: 25156 (98.27 KB)\n",
      "Trainable params: 25156 (98.27 KB)\n",
      "Non-trainable params: 0 (0.00 Byte)\n",
      "_________________________________________________________________\n",
      "None\n",
      "Epoch 1/5\n",
      "65/65 [==============================] - 23s 336ms/step - loss: 1.2802 - accuracy: 0.3693\n",
      "Epoch 2/5\n",
      "65/65 [==============================] - 22s 343ms/step - loss: 1.2471 - accuracy: 0.3836\n",
      "Epoch 3/5\n",
      "65/65 [==============================] - 22s 340ms/step - loss: 1.2389 - accuracy: 0.3946\n",
      "Epoch 4/5\n",
      "65/65 [==============================] - 23s 358ms/step - loss: 1.2664 - accuracy: 0.3720\n",
      "Epoch 5/5\n",
      "65/65 [==============================] - 24s 367ms/step - loss: 1.3338 - accuracy: 0.3375\n",
      "\n",
      "Simple_RNN Score--->  [1.327193021774292, 0.3347794711589813]\n"
     ]
    }
   ],
   "source": [
    "from tensorflow.keras.models import Sequential\n",
    "from tensorflow.keras.layers import SimpleRNN, Dense\n",
    "import numpy as np\n",
    "\n",
    "\n",
    "\n",
    "num_classes = np.max(y_train) + 1 \n",
    "\n",
    "\n",
    "RNN_model = Sequential(name=\"Simple_RNN\")\n",
    "RNN_model.add(SimpleRNN(128,\n",
    "                        activation='tanh', input_shape=(X_train.shape[1], 1))),  # Input shape is adjusted to the length o f each sequence and 1 for the single feature\n",
    "RNN_model.add(Dense(64,activation='tanh')) , \n",
    "\n",
    "RNN_model.add(Dense(num_classes, activation='softmax'))\n",
    "\n",
    "\n",
    "print(RNN_model.summary())\n",
    "\n",
    "\n",
    "RNN_model.compile(\n",
    "    loss=\"sparse_categorical_crossentropy\",\n",
    "    optimizer='adam',\n",
    "    metrics=['accuracy']\n",
    ")\n",
    "\n",
    "\n",
    "history = RNN_model.fit(X_train, y_train,\n",
    "                        batch_size=64,\n",
    "                        epochs=5,\n",
    "                        verbose=1)\n",
    "\n",
    "\n",
    "print()\n",
    "print(\"Simple_RNN Score---> \", RNN_model.evaluate(X_test, y_test, verbose=0))\n"
   ]
  },
  {
   "cell_type": "code",
   "execution_count": 67,
   "id": "9061e179",
   "metadata": {},
   "outputs": [
    {
     "name": "stdout",
     "output_type": "stream",
     "text": [
      "44/44 [==============================] - 4s 82ms/step\n"
     ]
    },
    {
     "data": {
      "image/png": "[encoded data removed]",
      "text/plain": [
       "<Figure size 1000x800 with 2 Axes>"
      ]
     },
     "metadata": {},
     "output_type": "display_data"
    }
   ],
   "source": [
    "from sklearn.metrics import confusion_matrix\n",
    "import seaborn as sns\n",
    "import matplotlib.pyplot as plt\n",
    "y_pred = np.argmax(RNN_model.predict(X_test), axis=1)\n",
    "\n",
    "# Compute confusion matrix\n",
    "conf_matrix = confusion_matrix(y_test, y_pred)\n",
    "\n",
    "# Plot confusion matrix\n",
    "plt.figure(figsize=(10, 8))\n",
    "sns.heatmap(conf_matrix, annot=True, fmt='d', cmap='Blues')\n",
    "plt.xlabel('Predicted labels')\n",
    "plt.ylabel('True labels')\n",
    "plt.title('Confusion Matrix')\n",
    "plt.show()"
   ]
  },
  {
   "cell_type": "markdown",
   "id": "1ec62a42",
   "metadata": {},
   "source": [
    "# Implementation of GRU"
   ]
  },
  {
   "cell_type": "code",
   "execution_count": 60,
   "id": "a47fab78",
   "metadata": {},
   "outputs": [
    {
     "name": "stdout",
     "output_type": "stream",
     "text": [
      "Model: \"GRU_Model\"\n",
      "_________________________________________________________________\n",
      " Layer (type)                Output Shape              Param #   \n",
      "=================================================================\n",
      " gru_1 (GRU)                 (None, 128)               50304     \n",
      "                                                                 \n",
      " dense_16 (Dense)            (None, 4)                 516       \n",
      "                                                                 \n",
      "=================================================================\n",
      "Total params: 50820 (198.52 KB)\n",
      "Trainable params: 50820 (198.52 KB)\n",
      "Non-trainable params: 0 (0.00 Byte)\n",
      "_________________________________________________________________\n",
      "None\n",
      "Epoch 1/5\n",
      "65/65 [==============================] - 333s 5s/step - loss: 1.3192 - accuracy: 0.3544\n",
      "Epoch 2/5\n",
      "65/65 [==============================] - 316s 5s/step - loss: 1.2404 - accuracy: 0.3848\n",
      "Epoch 3/5\n",
      "65/65 [==============================] - 325s 5s/step - loss: 1.2307 - accuracy: 0.3939\n",
      "Epoch 4/5\n",
      "65/65 [==============================] - 322s 5s/step - loss: 1.2298 - accuracy: 0.3925\n",
      "Epoch 5/5\n",
      "65/65 [==============================] - 318s 5s/step - loss: 1.2263 - accuracy: 0.3971\n",
      "\n",
      "GRU model Score--->  [1.2464940547943115, 0.3882863223552704]\n"
     ]
    }
   ],
   "source": [
    "from tensorflow.keras.models import Sequential\n",
    "from tensorflow.keras.layers import GRU, Dense\n",
    "import numpy as np\n",
    "\n",
    "\n",
    "num_classes = np.max(y_train) + 1 \n",
    "\n",
    "# Reshaping input data to include the timestep dimension\n",
    "\n",
    "X_train_reshaped = X_train.reshape((X_train.shape[0], X_train.shape[1], 1))\n",
    "X_test_reshaped=X_test.reshape((X_test.shape[0],X_test.shape[1],1))\n",
    "\n",
    "# Defining the GRU model\n",
    "gru_model = Sequential(name=\"GRU_Model\")\n",
    "gru_model.add(GRU(128,\n",
    "                  activation='tanh',\n",
    "                  return_sequences=False,\n",
    "                  input_shape=(X_train_reshaped.shape[1], X_train_reshaped.shape[2])))  \n",
    "\n",
    "gru_model.add(Dense(num_classes, activation='softmax'))\n",
    "\n",
    "# Printing the Summary\n",
    "print(gru_model.summary())\n",
    "\n",
    "# Compiling the model\n",
    "gru_model.compile(\n",
    "    loss=\"sparse_categorical_crossentropy\",\n",
    "    optimizer='adam',\n",
    "    metrics=['accuracy']\n",
    ")\n",
    "\n",
    "# Training the GRU model\n",
    "history2 = gru_model.fit(X_train_reshaped, y_train,\n",
    "                         batch_size=64,\n",
    "                         epochs=5,\n",
    "                         verbose=1)\n",
    "\n",
    "# Printing model score on test data\n",
    "print()\n",
    "print(\"GRU model Score---> \", gru_model.evaluate(X_test_reshaped, y_test, verbose=0))\n"
   ]
  },
  {
   "cell_type": "markdown",
   "id": "c18c1133",
   "metadata": {},
   "source": [
    "# Implementation of LSTM"
   ]
  },
  {
   "cell_type": "code",
   "execution_count": 46,
   "id": "fb995c9e",
   "metadata": {
    "scrolled": true
   },
   "outputs": [
    {
     "name": "stdout",
     "output_type": "stream",
     "text": [
      "Model: \"LSTM_Model\"\n",
      "_________________________________________________________________\n",
      " Layer (type)                Output Shape              Param #   \n",
      "=================================================================\n",
      " lstm_2 (LSTM)               (None, 128)               66560     \n",
      "                                                                 \n",
      " dense_2 (Dense)             (None, 4)                 516       \n",
      "                                                                 \n",
      "=================================================================\n",
      "Total params: 67076 (262.02 KB)\n",
      "Trainable params: 67076 (262.02 KB)\n",
      "Non-trainable params: 0 (0.00 Byte)\n",
      "_________________________________________________________________\n",
      "None\n",
      "Epoch 1/5\n",
      "65/65 - 178s - loss: 14273511424.0000 - accuracy: 0.3353 - 178s/epoch - 3s/step\n",
      "Epoch 2/5\n",
      "65/65 - 150s - loss: 14.1102 - accuracy: 0.3358 - 150s/epoch - 2s/step\n",
      "Epoch 3/5\n",
      "65/65 - 146s - loss: 1.3559 - accuracy: 0.3358 - 146s/epoch - 2s/step\n",
      "Epoch 4/5\n",
      "65/65 - 164s - loss: 1.3532 - accuracy: 0.3370 - 164s/epoch - 3s/step\n",
      "Epoch 5/5\n",
      "65/65 - 180s - loss: 1.3514 - accuracy: 0.3385 - 180s/epoch - 3s/step\n",
      "\n",
      "LSTM model Score--->  [1.3658841848373413, 0.30513375997543335]\n"
     ]
    }
   ],
   "source": [
    "from tensorflow.keras.layers import LSTM, Dense\n",
    "from tensorflow.keras.models import Sequential\n",
    "import numpy as np\n",
    "\n",
    "\n",
    "\n",
    "num_classes = np.max(y_train) + 1 \n",
    "\n",
    "\n",
    "X_train_reshaped = X_train.reshape((X_train.shape[0], X_train.shape[1], 1))\n",
    "X_test_reshaped=X_test.reshape((X_test.shape[0],X_test.shape[1],1))\n",
    "# Defining the LSTM model\n",
    "lstm_model = Sequential(name=\"LSTM_Model\")\n",
    "lstm_model.add(LSTM(128, activation='relu', return_sequences=False, input_shape=(X_train_reshaped.shape[1], X_train_reshaped.shape[2])))\n",
    "lstm_model.add(Dense(num_classes, activation='softmax'))  # Adjust output units to match the number of classes\n",
    "\n",
    "# Printing Model Summary\n",
    "print(lstm_model.summary())\n",
    "\n",
    "# Compile the model\n",
    "lstm_model.compile(\n",
    "    loss=\"sparse_categorical_crossentropy\",  # Use sparse categorical cross-entropy for integer labels\n",
    "    optimizer='adam',\n",
    "    metrics=['accuracy']\n",
    ")\n",
    "\n",
    "# Training the model\n",
    "history = lstm_model.fit(X_train_reshaped, y_train,\n",
    "                         batch_size=64,\n",
    "                         epochs=5,\n",
    "                         verbose=2)\n",
    "\n",
    "# Evaluating the model on test data\n",
    "print()\n",
    "print(\"LSTM model Score---> \", lstm_model.evaluate(X_test_reshaped, y_test, verbose=0))\n"
   ]
  },
  {
   "cell_type": "markdown",
   "id": "64eb65cd",
   "metadata": {},
   "source": [
    "# Implementation of bidirectional network"
   ]
  },
  {
   "cell_type": "code",
   "execution_count": 24,
   "id": "c5152d69",
   "metadata": {},
   "outputs": [
    {
     "name": "stdout",
     "output_type": "stream",
     "text": [
      "Model: \"Bidirectional_LSTM\"\n",
      "_________________________________________________________________\n",
      " Layer (type)                Output Shape              Param #   \n",
      "=================================================================\n",
      " bidirectional_7 (Bidirecti  (None, 256)               133120    \n",
      " onal)                                                           \n",
      "                                                                 \n",
      " dense_7 (Dense)             (None, 4)                 1028      \n",
      "                                                                 \n",
      "=================================================================\n",
      "Total params: 134148 (524.02 KB)\n",
      "Trainable params: 134148 (524.02 KB)\n",
      "Non-trainable params: 0 (0.00 Byte)\n",
      "_________________________________________________________________\n",
      "None\n",
      "Epoch 1/5\n",
      "65/65 - 1262s - loss: 1.2055 - accuracy: 0.4253 - 1262s/epoch - 19s/step\n",
      "Epoch 2/5\n",
      "65/65 - 1516s - loss: 1.1398 - accuracy: 0.4759 - 1516s/epoch - 23s/step\n",
      "Epoch 3/5\n",
      "65/65 - 1511s - loss: 1.1240 - accuracy: 0.4851 - 1511s/epoch - 23s/step\n",
      "Epoch 4/5\n",
      "65/65 - 1361s - loss: 1.1133 - accuracy: 0.4930 - 1361s/epoch - 21s/step\n",
      "Epoch 5/5\n",
      "65/65 - 1272s - loss: 1.1092 - accuracy: 0.4870 - 1272s/epoch - 20s/step\n",
      "\n",
      "Bidirectional LSTM model Score--->  [1.0907365083694458, 0.5061460733413696]\n"
     ]
    }
   ],
   "source": [
    "from keras.models import Model\n",
    "from keras.layers import Input, LSTM, Dense, Bidirectional\n",
    "from tensorflow.keras.models import Sequential\n",
    "\n",
    "num_classes = np.max(y_train) + 1 \n",
    "\n",
    "\n",
    "X_train_reshaped = X_train.reshape((X_train.shape[0], X_train.shape[1], 1))\n",
    "X_test_reshaped = X_test.reshape((X_test.shape[0], X_test.shape[1], 1))\n",
    "\n",
    "\n",
    "# Defining Bidirectional LSTM model\n",
    "bi_lstm_model = Sequential(name=\"Bidirectional_LSTM\")\n",
    "\n",
    "bi_lstm_model.add(Bidirectional(LSTM(128,\n",
    "                                     activation='tanh',\n",
    "                                     return_sequences=False,input_shape=(X_train_reshaped.shape[1], X_train_reshaped.shape))))\n",
    "bi_lstm_model.add(Dense(num_classes, activation='softmax'))\n",
    "bi_lstm_model.build(input_shape=(None, X_train_reshaped.shape[1], X_train_reshaped.shape[2]))\n",
    " \n",
    "# Printing model summary\n",
    "print(bi_lstm_model.summary())\n",
    " \n",
    "# Compiling model summary\n",
    "bi_lstm_model.compile(\n",
    "  loss=\"sparse_categorical_crossentropy\",\n",
    "  optimizer='adam',\n",
    "  metrics=['accuracy']\n",
    ")\n",
    " \n",
    "# Training the model\n",
    "history4 = bi_lstm_model.fit(X_train_reshaped, y_train,\n",
    "                             batch_size=64,\n",
    "                             epochs=5,\n",
    "                             verbose=2)\n",
    "                             \n",
    " \n",
    "# Printing model score on test data\n",
    "print()\n",
    "print(\"Bidirectional LSTM model Score---> \",\n",
    "      bi_lstm_model.evaluate(X_test_reshaped, y_test, verbose=0))"
   ]
  },
  {
   "cell_type": "code",
   "execution_count": 62,
   "id": "0d2263ed",
   "metadata": {},
   "outputs": [
    {
     "name": "stdout",
     "output_type": "stream",
     "text": [
      "Epoch 1/10\n",
      "519/519 [==============================] - 4s 7ms/step - loss: 0.7416 - accuracy: 0.7671 - val_loss: 1.2384 - val_accuracy: 0.6110\n",
      "Epoch 2/10\n",
      "519/519 [==============================] - 3s 5ms/step - loss: 0.3023 - accuracy: 0.8860 - val_loss: 1.5128 - val_accuracy: 0.6146\n",
      "Epoch 3/10\n",
      "519/519 [==============================] - 2s 5ms/step - loss: 0.1591 - accuracy: 0.9424 - val_loss: 1.8481 - val_accuracy: 0.5886\n",
      "Epoch 4/10\n",
      "519/519 [==============================] - 2s 4ms/step - loss: 0.1076 - accuracy: 0.9619 - val_loss: 1.7640 - val_accuracy: 0.6255\n",
      "Epoch 5/10\n",
      "519/519 [==============================] - 2s 4ms/step - loss: 0.0847 - accuracy: 0.9725 - val_loss: 2.0700 - val_accuracy: 0.5980\n",
      "Epoch 6/10\n",
      "519/519 [==============================] - 2s 3ms/step - loss: 0.1146 - accuracy: 0.9658 - val_loss: 1.9862 - val_accuracy: 0.6218\n",
      "Epoch 7/10\n",
      "519/519 [==============================] - 2s 3ms/step - loss: 0.1385 - accuracy: 0.9511 - val_loss: 1.9356 - val_accuracy: 0.6283\n",
      "Epoch 8/10\n",
      "519/519 [==============================] - 2s 3ms/step - loss: 0.0809 - accuracy: 0.9764 - val_loss: 2.2238 - val_accuracy: 0.6038\n",
      "Epoch 9/10\n",
      "519/519 [==============================] - 2s 3ms/step - loss: 0.0614 - accuracy: 0.9766 - val_loss: 2.4208 - val_accuracy: 0.6255\n",
      "Epoch 10/10\n",
      "519/519 [==============================] - 2s 3ms/step - loss: 0.0523 - accuracy: 0.9805 - val_loss: 2.4081 - val_accuracy: 0.6298\n",
      "Epoch 1/10\n",
      "519/519 [==============================] - 3s 5ms/step - loss: 1.0693 - accuracy: 0.4971 - val_loss: 1.0249 - val_accuracy: 0.5307\n",
      "Epoch 2/10\n",
      "519/519 [==============================] - 2s 4ms/step - loss: 1.0609 - accuracy: 0.5005 - val_loss: 1.0148 - val_accuracy: 0.5401\n",
      "Epoch 3/10\n",
      "519/519 [==============================] - 2s 3ms/step - loss: 1.0273 - accuracy: 0.5289 - val_loss: 1.0219 - val_accuracy: 0.5141\n",
      "Epoch 4/10\n",
      "519/519 [==============================] - 2s 3ms/step - loss: 1.0342 - accuracy: 0.5176 - val_loss: 0.9856 - val_accuracy: 0.5647\n",
      "Epoch 5/10\n",
      "519/519 [==============================] - 2s 3ms/step - loss: 1.0136 - accuracy: 0.5487 - val_loss: 1.0073 - val_accuracy: 0.5372\n",
      "Epoch 6/10\n",
      "519/519 [==============================] - 2s 3ms/step - loss: 0.9924 - accuracy: 0.5518 - val_loss: 0.9939 - val_accuracy: 0.5452\n",
      "Epoch 7/10\n",
      "519/519 [==============================] - 2s 4ms/step - loss: 0.9905 - accuracy: 0.5456 - val_loss: 0.9848 - val_accuracy: 0.5531\n",
      "Epoch 8/10\n",
      "519/519 [==============================] - 2s 3ms/step - loss: 0.9694 - accuracy: 0.5521 - val_loss: 0.9926 - val_accuracy: 0.5777\n",
      "Epoch 9/10\n",
      "519/519 [==============================] - 2s 4ms/step - loss: 0.9889 - accuracy: 0.5651 - val_loss: 0.9751 - val_accuracy: 0.5633\n",
      "Epoch 10/10\n",
      "519/519 [==============================] - 2s 4ms/step - loss: 0.9482 - accuracy: 0.5894 - val_loss: 0.9821 - val_accuracy: 0.5705\n",
      "Epoch 1/10\n",
      "519/519 [==============================] - 2s 3ms/step - loss: 0.7715 - accuracy: 0.7731 - val_loss: 1.2978 - val_accuracy: 0.6074\n",
      "Epoch 2/10\n",
      "519/519 [==============================] - 2s 3ms/step - loss: 0.3417 - accuracy: 0.8742 - val_loss: 1.5160 - val_accuracy: 0.6189\n",
      "Epoch 3/10\n",
      "519/519 [==============================] - 2s 3ms/step - loss: 0.1641 - accuracy: 0.9407 - val_loss: 1.5336 - val_accuracy: 0.6370\n",
      "Epoch 4/10\n",
      "519/519 [==============================] - 2s 3ms/step - loss: 0.1134 - accuracy: 0.9646 - val_loss: 1.6196 - val_accuracy: 0.6305\n",
      "Epoch 5/10\n",
      "519/519 [==============================] - 2s 3ms/step - loss: 0.0978 - accuracy: 0.9675 - val_loss: 1.7879 - val_accuracy: 0.6059\n",
      "Epoch 6/10\n",
      "519/519 [==============================] - 2s 3ms/step - loss: 0.1023 - accuracy: 0.9655 - val_loss: 2.0612 - val_accuracy: 0.6016\n",
      "Epoch 7/10\n",
      "519/519 [==============================] - 2s 3ms/step - loss: 0.1379 - accuracy: 0.9525 - val_loss: 1.9226 - val_accuracy: 0.6312\n",
      "Epoch 8/10\n",
      "519/519 [==============================] - 2s 4ms/step - loss: 0.0879 - accuracy: 0.9691 - val_loss: 2.1188 - val_accuracy: 0.6334\n",
      "Epoch 9/10\n",
      "519/519 [==============================] - 2s 4ms/step - loss: 0.0768 - accuracy: 0.9742 - val_loss: 2.1542 - val_accuracy: 0.6428\n",
      "Epoch 10/10\n",
      "519/519 [==============================] - 2s 3ms/step - loss: 0.0230 - accuracy: 0.9937 - val_loss: 2.2766 - val_accuracy: 0.6327\n",
      "Epoch 1/10\n",
      "519/519 [==============================] - 105s 203ms/step - loss: 1.3738 - accuracy: 0.3211 - val_loss: 1.3542 - val_accuracy: 0.3254\n",
      "Epoch 2/10\n",
      "519/519 [==============================] - 109s 210ms/step - loss: 1.3149 - accuracy: 0.3404 - val_loss: 1.2892 - val_accuracy: 0.3485\n",
      "Epoch 3/10\n",
      "519/519 [==============================] - 110s 212ms/step - loss: 1.2872 - accuracy: 0.3508 - val_loss: 1.3130 - val_accuracy: 0.3507\n",
      "Epoch 4/10\n",
      "519/519 [==============================] - 114s 220ms/step - loss: 1.2736 - accuracy: 0.3689 - val_loss: 1.3070 - val_accuracy: 0.3514\n",
      "Epoch 5/10\n",
      "519/519 [==============================] - 114s 219ms/step - loss: 1.2734 - accuracy: 0.3691 - val_loss: 1.2650 - val_accuracy: 0.3738\n",
      "Epoch 6/10\n",
      "519/519 [==============================] - 116s 224ms/step - loss: 1.2565 - accuracy: 0.3790 - val_loss: 1.2491 - val_accuracy: 0.3883\n",
      "Epoch 7/10\n",
      "519/519 [==============================] - 116s 224ms/step - loss: 1.2508 - accuracy: 0.3889 - val_loss: 1.2709 - val_accuracy: 0.3955\n",
      "Epoch 8/10\n",
      "519/519 [==============================] - 114s 220ms/step - loss: 1.2508 - accuracy: 0.3855 - val_loss: 1.2433 - val_accuracy: 0.4064\n",
      "Epoch 9/10\n",
      "519/519 [==============================] - 122s 234ms/step - loss: 1.2467 - accuracy: 0.3932 - val_loss: 1.2405 - val_accuracy: 0.4049\n",
      "Epoch 10/10\n",
      "519/519 [==============================] - 109s 210ms/step - loss: 1.2454 - accuracy: 0.3959 - val_loss: 1.2499 - val_accuracy: 0.3941\n",
      "Epoch 1/10\n",
      "519/519 [==============================] - 276s 532ms/step - loss: 1.2374 - accuracy: 0.3905 - val_loss: 1.2475 - val_accuracy: 0.3926\n",
      "Epoch 2/10\n",
      "519/519 [==============================] - 285s 549ms/step - loss: 1.2311 - accuracy: 0.3934 - val_loss: 1.2402 - val_accuracy: 0.4006\n",
      "Epoch 3/10\n",
      "519/519 [==============================] - 340s 655ms/step - loss: 1.2265 - accuracy: 0.4007 - val_loss: 1.2471 - val_accuracy: 0.3753\n",
      "Epoch 4/10\n",
      "519/519 [==============================] - 374s 720ms/step - loss: 1.2244 - accuracy: 0.4050 - val_loss: 1.2601 - val_accuracy: 0.3767\n",
      "Epoch 5/10\n",
      "519/519 [==============================] - 377s 726ms/step - loss: 1.2237 - accuracy: 0.3980 - val_loss: 1.2478 - val_accuracy: 0.3818\n",
      "Epoch 6/10\n",
      "519/519 [==============================] - 356s 686ms/step - loss: 1.2198 - accuracy: 0.4045 - val_loss: 1.2533 - val_accuracy: 0.3782\n",
      "Epoch 7/10\n",
      "519/519 [==============================] - 350s 675ms/step - loss: 1.2199 - accuracy: 0.4053 - val_loss: 1.2493 - val_accuracy: 0.3731\n",
      "Epoch 8/10\n",
      "519/519 [==============================] - 344s 663ms/step - loss: 1.2164 - accuracy: 0.4050 - val_loss: 1.2469 - val_accuracy: 0.3897\n",
      "Epoch 9/10\n",
      "519/519 [==============================] - 356s 686ms/step - loss: 1.2150 - accuracy: 0.4079 - val_loss: 1.2440 - val_accuracy: 0.3832\n",
      "Epoch 10/10\n",
      "519/519 [==============================] - 362s 697ms/step - loss: 1.2138 - accuracy: 0.4045 - val_loss: 1.2499 - val_accuracy: 0.3803\n"
     ]
    },
    {
     "data": {
      "image/png": "[encoded data removed]",
      "text/plain": [
       "<Figure size 1000x500 with 1 Axes>"
      ]
     },
     "metadata": {},
     "output_type": "display_data"
    },
    {
     "data": {
      "image/png": "[encoded data removed]",
      "text/plain": [
       "<Figure size 1000x500 with 1 Axes>"
      ]
     },
     "metadata": {},
     "output_type": "display_data"
    }
   ],
   "source": [
    "import matplotlib.pyplot as plt\n",
    "\n",
    "# Training the first model\n",
    "history_models = models.fit(X_train, y_train, epochs=10, batch_size=8, validation_data=(X_test, y_test))\n",
    "# Training the model\n",
    "\n",
    "\n",
    "                             \n",
    "                            \n",
    "# Training the second model\n",
    "history_modeld = modeld.fit(X_train, y_train, epochs=10, batch_size=8, validation_data=(X_test, y_test))\n",
    "history_model = model.fit(X_train, y_train, epochs=10, batch_size=8, validation_data=(X_test, y_test))\n",
    "history = RNN_model.fit(X_train, y_train,epochs=10,batch_size=8,validation_data=(X_test,y_test))\n",
    "history2 = gru_model.fit(X_train_reshaped, y_train,epochs=10,batch_size=8,\n",
    "                         validation_data=(X_test_reshaped,y_test))\n",
    "                         \n",
    "                         \n",
    "\n",
    "\n",
    "                        \n",
    "\n",
    "                        \n",
    "                        \n",
    "\n",
    "\n",
    "                         \n",
    "                         \n",
    "# Plotting loss for both models\n",
    "plt.figure(figsize=(10, 5))\n",
    "plt.plot(history_models.history['loss'], label='Model Loss (Dense)', color='blue')\n",
    "plt.plot(history_modeld.history['loss'], label='Model Loss (Dense + Dropout)', color='red')\n",
    "plt.plot(history_model.history['loss'], label='Model Loss (Dense + CNN)', color='green')\n",
    "plt.plot(history.history['loss'], label='Model Loss (Dense + RNN)', color='black')\n",
    "plt.plot(history2.history['loss'], label='Model Loss (Dense + gru)', color='brown')\n",
    "\n",
    "\n",
    "plt.title('Loss Comparison Over Epochs')\n",
    "plt.xlabel('Epochs')\n",
    "plt.ylabel('Loss')\n",
    "plt.legend()\n",
    "plt.show()\n",
    "\n",
    "# Plotting accuracy for both models\n",
    "plt.figure(figsize=(10, 5))\n",
    "plt.plot(history_models.history['accuracy'], label='Model Accuracy (Dense)', color='blue')\n",
    "plt.plot(history_modeld.history['accuracy'], label='Model Accuracy (Dense + Dropout)', color='red')\n",
    "plt.plot(history_model.history['accuracy'], label='Model Accuracy (Dense + CNN)', color='green') \n",
    "plt.plot(history.history['accuracy'], label='Model Accuracy (Dense + RNN)', color='black') \n",
    "plt.plot(history2.history['accuracy'], label='Model Accuracy (Dense + gru)', color='brown') \n",
    "\n",
    "\n",
    "\n",
    "plt.title('Accuracy Comparison Over Epochs')\n",
    "plt.xlabel('Epochs')\n",
    "plt.ylabel('Accuracy')\n",
    "plt.legend()\n",
    "plt.show()\n"
   ]
  },
  {
   "cell_type": "code",
   "execution_count": null,
   "id": "46497f0a",
   "metadata": {},
   "outputs": [],
   "source": []
  },
  {
   "cell_type": "code",
   "execution_count": null,
   "id": "4845fa72",
   "metadata": {},
   "outputs": [],
   "source": []
  }
 ],
 "metadata": {
  "kernelspec": {
   "display_name": "Python 3 (ipykernel)",
   "language": "python",
   "name": "python3"
  },
  "language_info": {
   "codemirror_mode": {
    "name": "ipython",
    "version": 3
   },
   "file_extension": ".py",
   "mimetype": "text/x-python",
   "name": "python",
   "nbconvert_exporter": "python",
   "pygments_lexer": "ipython3",
   "version": "3.11.5"
  }
 },
 "nbformat": 4,
 "nbformat_minor": 5
}
